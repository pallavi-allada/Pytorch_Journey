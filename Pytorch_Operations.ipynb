{
  "nbformat": 4,
  "nbformat_minor": 0,
  "metadata": {
    "colab": {
      "name": "Pytorch_Operations.ipynb",
      "provenance": [],
      "collapsed_sections": [],
      "authorship_tag": "ABX9TyPmlZIFMHg4whpw7gFUQTpp"
    },
    "kernelspec": {
      "name": "python3",
      "display_name": "Python 3"
    }
  },
  "cells": [
    {
      "cell_type": "markdown",
      "metadata": {
        "id": "HqpKyA7p4JIV",
        "colab_type": "text"
      },
      "source": [
        "# **Pytorch Operations**\n",
        "\n",
        "Accessing the tensor data, slicing it, editing the data and performing various mathematical operations on it.\n"
      ]
    },
    {
      "cell_type": "code",
      "metadata": {
        "id": "oYebvtwm31sb",
        "colab_type": "code",
        "colab": {
          "base_uri": "https://localhost:8080/",
          "height": 34
        },
        "outputId": "24d60047-59ff-46e4-b0b7-c6e8cc891acf"
      },
      "source": [
        "import torch\n",
        "print(torch.__version__)"
      ],
      "execution_count": 2,
      "outputs": [
        {
          "output_type": "stream",
          "text": [
            "1.4.0\n"
          ],
          "name": "stdout"
        }
      ]
    },
    {
      "cell_type": "markdown",
      "metadata": {
        "id": "hB19jQlhB3B8",
        "colab_type": "text"
      },
      "source": [
        "***Casting PyTorch tensor to another type***\n",
        "\n",
        "By default PyTorch tensors are FloatTensors. Having said that, we can convert/cast the tensors between various types."
      ]
    },
    {
      "cell_type": "code",
      "metadata": {
        "id": "6P0zTmze-ZHk",
        "colab_type": "code",
        "colab": {
          "base_uri": "https://localhost:8080/",
          "height": 158
        },
        "outputId": "594ac08f-f9b4-41e2-af99-850eadd17802"
      },
      "source": [
        "def_tensor = torch.rand((2,3)) # By default, Pytorch tensors are FloatTensor. torch.Tensor is an alias for the default tensor type (torch.FloatTensor).\n",
        "print(def_tensor)\n",
        "print(type(def_tensor))\n",
        "\n",
        "int_def_tensor = def_tensor.int() #Casts float tensor to int using int(), but we are losing information here.\n",
        "print(int_def_tensor)\n",
        "\n",
        "int_def_tensor = (def_tensor*100).int() #Multiply the tensor with 100, gets us some data,, and then when we cast it to int(),, we still have some info.\n",
        "print(int_def_tensor)"
      ],
      "execution_count": 13,
      "outputs": [
        {
          "output_type": "stream",
          "text": [
            "tensor([[0.7585, 0.4014, 0.2297],\n",
            "        [0.8760, 0.6446, 0.4661]])\n",
            "<class 'torch.Tensor'>\n",
            "tensor([[0, 0, 0],\n",
            "        [0, 0, 0]], dtype=torch.int32)\n",
            "tensor([[75, 40, 22],\n",
            "        [87, 64, 46]], dtype=torch.int32)\n"
          ],
          "name": "stdout"
        },
        {
          "output_type": "execute_result",
          "data": {
            "text/plain": [
              "torch.Tensor"
            ]
          },
          "metadata": {
            "tags": []
          },
          "execution_count": 13
        }
      ]
    },
    {
      "cell_type": "markdown",
      "metadata": {
        "id": "smbX-4RC9UJI",
        "colab_type": "text"
      },
      "source": [
        "***Concatenate two tensors***\n",
        "\n",
        "We can concatenate tensors across multiple dimensions, like stacking the dimensions"
      ]
    },
    {
      "cell_type": "code",
      "metadata": {
        "id": "mnyiXVk94Iog",
        "colab_type": "code",
        "colab": {
          "base_uri": "https://localhost:8080/",
          "height": 265
        },
        "outputId": "77ef5cfc-21d9-4270-9df1-3b337d9e8495"
      },
      "source": [
        "x = (torch.rand(2,3,4)*100).int()\n",
        "y = (torch.rand(2,3,4)*100).int()\n",
        "\n",
        "print(x)\n",
        "print(y)"
      ],
      "execution_count": 3,
      "outputs": [
        {
          "output_type": "stream",
          "text": [
            "tensor([[[41, 17, 79, 74],\n",
            "         [11, 16, 89, 84],\n",
            "         [71, 52, 20, 13]],\n",
            "\n",
            "        [[19, 65, 48, 11],\n",
            "         [34, 77, 17, 62],\n",
            "         [41, 15, 66, 96]]], dtype=torch.int32)\n",
            "tensor([[[17,  7, 51, 20],\n",
            "         [89, 41,  8, 81],\n",
            "         [24, 81, 40, 92]],\n",
            "\n",
            "        [[73, 15, 39, 71],\n",
            "         [67, 19, 91, 20],\n",
            "         [34, 38, 19, 12]]], dtype=torch.int32)\n"
          ],
          "name": "stdout"
        }
      ]
    },
    {
      "cell_type": "code",
      "metadata": {
        "id": "zESJ1fSc9yB_",
        "colab_type": "code",
        "colab": {
          "base_uri": "https://localhost:8080/",
          "height": 283
        },
        "outputId": "e7cfa9d2-cb37-4ad0-ac45-ae36165b01bb"
      },
      "source": [
        "def_cat = torch.cat((x,y)) #Creates a tensor of size 4x3x4 after concatenating at the default dimension dim=0\n",
        "def_cat"
      ],
      "execution_count": 4,
      "outputs": [
        {
          "output_type": "execute_result",
          "data": {
            "text/plain": [
              "tensor([[[41, 17, 79, 74],\n",
              "         [11, 16, 89, 84],\n",
              "         [71, 52, 20, 13]],\n",
              "\n",
              "        [[19, 65, 48, 11],\n",
              "         [34, 77, 17, 62],\n",
              "         [41, 15, 66, 96]],\n",
              "\n",
              "        [[17,  7, 51, 20],\n",
              "         [89, 41,  8, 81],\n",
              "         [24, 81, 40, 92]],\n",
              "\n",
              "        [[73, 15, 39, 71],\n",
              "         [67, 19, 91, 20],\n",
              "         [34, 38, 19, 12]]], dtype=torch.int32)"
            ]
          },
          "metadata": {
            "tags": []
          },
          "execution_count": 4
        }
      ]
    },
    {
      "cell_type": "code",
      "metadata": {
        "id": "2D9g1Cjj9_i6",
        "colab_type": "code",
        "colab": {
          "base_uri": "https://localhost:8080/",
          "height": 372
        },
        "outputId": "998e0f94-e019-4e27-8c5e-5e0803cca659"
      },
      "source": [
        "cat_1 = torch.cat((x,y),dim=1) #Creates a tensor of size 2x6x4 after concatenating at dim=1\n",
        "cat_2 = torch.cat((x,y),2) #Creates a tensor of size 2x6x4 after concatenating at dim=2\n",
        "print(cat_1)\n",
        "print(cat_2)\n"
      ],
      "execution_count": 8,
      "outputs": [
        {
          "output_type": "stream",
          "text": [
            "tensor([[[41, 17, 79, 74],\n",
            "         [11, 16, 89, 84],\n",
            "         [71, 52, 20, 13],\n",
            "         [17,  7, 51, 20],\n",
            "         [89, 41,  8, 81],\n",
            "         [24, 81, 40, 92]],\n",
            "\n",
            "        [[19, 65, 48, 11],\n",
            "         [34, 77, 17, 62],\n",
            "         [41, 15, 66, 96],\n",
            "         [73, 15, 39, 71],\n",
            "         [67, 19, 91, 20],\n",
            "         [34, 38, 19, 12]]], dtype=torch.int32)\n",
            "tensor([[[41, 17, 79, 74, 17,  7, 51, 20],\n",
            "         [11, 16, 89, 84, 89, 41,  8, 81],\n",
            "         [71, 52, 20, 13, 24, 81, 40, 92]],\n",
            "\n",
            "        [[19, 65, 48, 11, 73, 15, 39, 71],\n",
            "         [34, 77, 17, 62, 67, 19, 91, 20],\n",
            "         [41, 15, 66, 96, 34, 38, 19, 12]]], dtype=torch.int32)\n"
          ],
          "name": "stdout"
        }
      ]
    },
    {
      "cell_type": "code",
      "metadata": {
        "id": "-gOkgr3D-4zB",
        "colab_type": "code",
        "colab": {}
      },
      "source": [
        ""
      ],
      "execution_count": 0,
      "outputs": []
    }
  ]
}