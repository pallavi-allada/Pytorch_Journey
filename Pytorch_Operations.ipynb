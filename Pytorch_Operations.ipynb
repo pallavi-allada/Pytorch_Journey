{
  "nbformat": 4,
  "nbformat_minor": 0,
  "metadata": {
    "colab": {
      "name": "Pytorch_Operations.ipynb",
      "provenance": [],
      "collapsed_sections": [],
      "authorship_tag": "ABX9TyO+mJNTWg9Kabx83FaYrMjj"
    },
    "kernelspec": {
      "name": "python3",
      "display_name": "Python 3"
    }
  },
  "cells": [
    {
      "cell_type": "markdown",
      "metadata": {
        "id": "HqpKyA7p4JIV",
        "colab_type": "text"
      },
      "source": [
        "# **Pytorch Operations**\n",
        "\n",
        "Accessing the tensor data, slicing it, editing the data and performing various mathematical operations on it.\n"
      ]
    },
    {
      "cell_type": "code",
      "metadata": {
        "id": "oYebvtwm31sb",
        "colab_type": "code",
        "colab": {
          "base_uri": "https://localhost:8080/",
          "height": 34
        },
        "outputId": "24d60047-59ff-46e4-b0b7-c6e8cc891acf"
      },
      "source": [
        "import torch\n",
        "print(torch.__version__)"
      ],
      "execution_count": 2,
      "outputs": [
        {
          "output_type": "stream",
          "text": [
            "1.4.0\n"
          ],
          "name": "stdout"
        }
      ]
    },
    {
      "cell_type": "markdown",
      "metadata": {
        "id": "YNf2P7VGIwu4",
        "colab_type": "text"
      },
      "source": [
        "***Accessing tensor data***\n",
        "\n",
        "Data inside tensors can be accessed using indexing or slicing."
      ]
    },
    {
      "cell_type": "code",
      "metadata": {
        "id": "PfD2LUmxI7EF",
        "colab_type": "code",
        "colab": {
          "base_uri": "https://localhost:8080/",
          "height": 265
        },
        "outputId": "63b9afa3-7dfe-4984-e3cf-f138064fee1c"
      },
      "source": [
        "x = (torch.rand((2,3,4))*100).int()\n",
        "print(x)\n",
        "\n",
        "print(x[1][2])\n",
        "print(x[0][1][2], x[0][1][2].item()) # Gets the data as tensor by default. In order to get Python number from tensor, use .item()\n",
        "\n",
        "\n",
        "print(x[:, 1, :3]) # Use slicing to get ranges of values from tensor by :, like in numpy arrays.\n",
        "print(x[1, 2])\n",
        "print(x[..., 2])"
      ],
      "execution_count": 22,
      "outputs": [
        {
          "output_type": "stream",
          "text": [
            "tensor([[[85, 14, 48, 98],\n",
            "         [70, 61, 14, 77],\n",
            "         [42, 54, 86, 39]],\n",
            "\n",
            "        [[15, 60,  4, 11],\n",
            "         [20, 91, 60, 45],\n",
            "         [18, 20,  4, 35]]], dtype=torch.int32)\n",
            "tensor([18, 20,  4, 35], dtype=torch.int32)\n",
            "tensor(14, dtype=torch.int32) 14\n",
            "tensor([[70, 61, 14],\n",
            "        [20, 91, 60]], dtype=torch.int32)\n",
            "tensor([18, 20,  4, 35], dtype=torch.int32)\n",
            "tensor([[48, 14, 86],\n",
            "        [ 4, 60,  4]], dtype=torch.int32)\n"
          ],
          "name": "stdout"
        }
      ]
    },
    {
      "cell_type": "markdown",
      "metadata": {
        "id": "hB19jQlhB3B8",
        "colab_type": "text"
      },
      "source": [
        "***Casting PyTorch tensor to another type***\n",
        "\n",
        "By default PyTorch tensors are FloatTensors. Having said that, we can convert/cast the tensors between various types."
      ]
    },
    {
      "cell_type": "code",
      "metadata": {
        "id": "6P0zTmze-ZHk",
        "colab_type": "code",
        "colab": {
          "base_uri": "https://localhost:8080/",
          "height": 158
        },
        "outputId": "594ac08f-f9b4-41e2-af99-850eadd17802"
      },
      "source": [
        "def_tensor = torch.rand((2,3)) # By default, Pytorch tensors are FloatTensor. torch.Tensor is an alias for the default tensor type (torch.FloatTensor).\n",
        "print(def_tensor)\n",
        "print(type(def_tensor))\n",
        "\n",
        "int_def_tensor = def_tensor.int() #Casts float tensor to int using int(), but we are losing information here.\n",
        "print(int_def_tensor)\n",
        "\n",
        "int_def_tensor = (def_tensor*100).int() #Multiply the tensor with 100, gets us some data,, and then when we cast it to int(),, we still have some info.\n",
        "print(int_def_tensor)"
      ],
      "execution_count": 13,
      "outputs": [
        {
          "output_type": "stream",
          "text": [
            "tensor([[0.7585, 0.4014, 0.2297],\n",
            "        [0.8760, 0.6446, 0.4661]])\n",
            "<class 'torch.Tensor'>\n",
            "tensor([[0, 0, 0],\n",
            "        [0, 0, 0]], dtype=torch.int32)\n",
            "tensor([[75, 40, 22],\n",
            "        [87, 64, 46]], dtype=torch.int32)\n"
          ],
          "name": "stdout"
        },
        {
          "output_type": "execute_result",
          "data": {
            "text/plain": [
              "torch.Tensor"
            ]
          },
          "metadata": {
            "tags": []
          },
          "execution_count": 13
        }
      ]
    },
    {
      "cell_type": "markdown",
      "metadata": {
        "id": "foMqDXCtUch6",
        "colab_type": "text"
      },
      "source": [
        "***Converting Pytorch tensor to list/Reshaping tensors***\n",
        "\n"
      ]
    },
    {
      "cell_type": "code",
      "metadata": {
        "id": "hSrDVsjFUjp8",
        "colab_type": "code",
        "colab": {
          "base_uri": "https://localhost:8080/",
          "height": 194
        },
        "outputId": "5e268dc8-dbc4-4e8d-f669-6e0783a08b53"
      },
      "source": [
        "x = (torch.rand(2,3,2)*100).int()\n",
        "print(x)\n",
        "\n",
        "print(x.flatten()) # Returns a tensor with all values collapsed into 1-dimension. use .tolist() to convert the tensor to a python list.\n",
        "print(x.flatten().tolist())\n",
        "print(x.tolist()) #Converts the tensor to list of same rank as tensor\n",
        "\n"
      ],
      "execution_count": 49,
      "outputs": [
        {
          "output_type": "stream",
          "text": [
            "tensor([[[12, 71],\n",
            "         [25, 21],\n",
            "         [54, 86]],\n",
            "\n",
            "        [[19, 78],\n",
            "         [36, 64],\n",
            "         [83, 49]]], dtype=torch.int32)\n",
            "tensor([12, 71, 25, 21, 54, 86, 19, 78, 36, 64, 83, 49], dtype=torch.int32)\n",
            "[12, 71, 25, 21, 54, 86, 19, 78, 36, 64, 83, 49]\n",
            "[[[12, 71], [25, 21], [54, 86]], [[19, 78], [36, 64], [83, 49]]]\n"
          ],
          "name": "stdout"
        }
      ]
    },
    {
      "cell_type": "code",
      "metadata": {
        "id": "igPCH1bqeyhO",
        "colab_type": "code",
        "colab": {
          "base_uri": "https://localhost:8080/",
          "height": 1000
        },
        "outputId": "7569577e-0aa3-4098-d0d7-33e3fe969a9c"
      },
      "source": [
        "x = (torch.rand(2,4,4)*100).int() \n",
        "print(x) #Tensor of 2x4x4\n",
        "print(x.view(-1)) # Returns a 1-dimensional view of the data - 1x32\n",
        "print(x.view(-1,4)) #Returns a rank2 tensor with 4 elements in the last dimension - 8x4\n",
        "print(x.view(-1,2,4)) #Returns a rank3 tensor with 4 elements in the last dimension, and 2 elements in last-but-one dimension - 4x2x4\n",
        "print(x.view(4,2,4)) #Same as above in this case. -1 denotes all remaining - 4x2x4\n",
        "\n",
        "print(x.view(4,-1)) #Returns a rank2 tensor with 4 in the 1st dimension - 4x8\n",
        "print(x.view(2,2,2,-1)) #Returns a rank4 tensor - 2x2x2x4"
      ],
      "execution_count": 57,
      "outputs": [
        {
          "output_type": "stream",
          "text": [
            "tensor([[[19, 60, 61, 61],\n",
            "         [38, 51, 22, 18],\n",
            "         [92, 55, 45, 54],\n",
            "         [52, 14, 16, 44]],\n",
            "\n",
            "        [[21, 92,  8, 29],\n",
            "         [66, 24, 98, 18],\n",
            "         [ 6,  0, 25,  9],\n",
            "         [80, 45, 32, 36]]], dtype=torch.int32)\n",
            "tensor([19, 60, 61, 61, 38, 51, 22, 18, 92, 55, 45, 54, 52, 14, 16, 44, 21, 92,\n",
            "         8, 29, 66, 24, 98, 18,  6,  0, 25,  9, 80, 45, 32, 36],\n",
            "       dtype=torch.int32)\n",
            "tensor([[19, 60, 61, 61],\n",
            "        [38, 51, 22, 18],\n",
            "        [92, 55, 45, 54],\n",
            "        [52, 14, 16, 44],\n",
            "        [21, 92,  8, 29],\n",
            "        [66, 24, 98, 18],\n",
            "        [ 6,  0, 25,  9],\n",
            "        [80, 45, 32, 36]], dtype=torch.int32)\n",
            "tensor([[[19, 60, 61, 61],\n",
            "         [38, 51, 22, 18]],\n",
            "\n",
            "        [[92, 55, 45, 54],\n",
            "         [52, 14, 16, 44]],\n",
            "\n",
            "        [[21, 92,  8, 29],\n",
            "         [66, 24, 98, 18]],\n",
            "\n",
            "        [[ 6,  0, 25,  9],\n",
            "         [80, 45, 32, 36]]], dtype=torch.int32)\n",
            "tensor([[[19, 60, 61, 61],\n",
            "         [38, 51, 22, 18]],\n",
            "\n",
            "        [[92, 55, 45, 54],\n",
            "         [52, 14, 16, 44]],\n",
            "\n",
            "        [[21, 92,  8, 29],\n",
            "         [66, 24, 98, 18]],\n",
            "\n",
            "        [[ 6,  0, 25,  9],\n",
            "         [80, 45, 32, 36]]], dtype=torch.int32)\n",
            "tensor([[19, 60, 61, 61, 38, 51, 22, 18],\n",
            "        [92, 55, 45, 54, 52, 14, 16, 44],\n",
            "        [21, 92,  8, 29, 66, 24, 98, 18],\n",
            "        [ 6,  0, 25,  9, 80, 45, 32, 36]], dtype=torch.int32)\n",
            "tensor([[[[19, 60, 61, 61],\n",
            "          [38, 51, 22, 18]],\n",
            "\n",
            "         [[92, 55, 45, 54],\n",
            "          [52, 14, 16, 44]]],\n",
            "\n",
            "\n",
            "        [[[21, 92,  8, 29],\n",
            "          [66, 24, 98, 18]],\n",
            "\n",
            "         [[ 6,  0, 25,  9],\n",
            "          [80, 45, 32, 36]]]], dtype=torch.int32)\n"
          ],
          "name": "stdout"
        }
      ]
    },
    {
      "cell_type": "markdown",
      "metadata": {
        "id": "t4iDoenqQUnA",
        "colab_type": "text"
      },
      "source": [
        "***Minimum/Maximum of tensor data***\n",
        "\n",
        "To identify the minimum/maximum of values of tensor data\n",
        "\n"
      ]
    },
    {
      "cell_type": "code",
      "metadata": {
        "id": "DBz5oH7yQ6Wc",
        "colab_type": "code",
        "colab": {
          "base_uri": "https://localhost:8080/",
          "height": 158
        },
        "outputId": "ea0a3e83-b66b-4b47-ca25-0b78d2700b06"
      },
      "source": [
        "x = (torch.rand(2,3,4)*100).int()\n",
        "print(x)\n",
        "\n",
        "print(torch.min(x), torch.max(x), torch.min(x).item(), torch.max(x).item()) #Returns a 0-dimensional tensor with just one element. We should use .item() to return a Python number from the tensor.\n"
      ],
      "execution_count": 28,
      "outputs": [
        {
          "output_type": "stream",
          "text": [
            "tensor([[[40,  0, 96, 34],\n",
            "         [75, 82, 61, 75],\n",
            "         [84, 24,  1, 65]],\n",
            "\n",
            "        [[ 6, 77, 81, 90],\n",
            "         [72, 22, 22, 92],\n",
            "         [88, 62, 93, 94]]], dtype=torch.int32)\n",
            "tensor(0, dtype=torch.int32) tensor(96, dtype=torch.int32) 0 96\n"
          ],
          "name": "stdout"
        }
      ]
    },
    {
      "cell_type": "markdown",
      "metadata": {
        "id": "smbX-4RC9UJI",
        "colab_type": "text"
      },
      "source": [
        "***Concatenate two tensors***\n",
        "\n",
        "We can concatenate tensors across multiple dimensions, like stacking the dimensions"
      ]
    },
    {
      "cell_type": "code",
      "metadata": {
        "id": "mnyiXVk94Iog",
        "colab_type": "code",
        "colab": {
          "base_uri": "https://localhost:8080/",
          "height": 265
        },
        "outputId": "77ef5cfc-21d9-4270-9df1-3b337d9e8495"
      },
      "source": [
        "x = (torch.rand(2,3,4)*100).int()\n",
        "y = (torch.rand(2,3,4)*100).int()\n",
        "\n",
        "print(x)\n",
        "print(y)"
      ],
      "execution_count": 3,
      "outputs": [
        {
          "output_type": "stream",
          "text": [
            "tensor([[[41, 17, 79, 74],\n",
            "         [11, 16, 89, 84],\n",
            "         [71, 52, 20, 13]],\n",
            "\n",
            "        [[19, 65, 48, 11],\n",
            "         [34, 77, 17, 62],\n",
            "         [41, 15, 66, 96]]], dtype=torch.int32)\n",
            "tensor([[[17,  7, 51, 20],\n",
            "         [89, 41,  8, 81],\n",
            "         [24, 81, 40, 92]],\n",
            "\n",
            "        [[73, 15, 39, 71],\n",
            "         [67, 19, 91, 20],\n",
            "         [34, 38, 19, 12]]], dtype=torch.int32)\n"
          ],
          "name": "stdout"
        }
      ]
    },
    {
      "cell_type": "code",
      "metadata": {
        "id": "zESJ1fSc9yB_",
        "colab_type": "code",
        "colab": {
          "base_uri": "https://localhost:8080/",
          "height": 283
        },
        "outputId": "e7cfa9d2-cb37-4ad0-ac45-ae36165b01bb"
      },
      "source": [
        "def_cat = torch.cat((x,y)) #Creates a tensor of size 4x3x4 after concatenating at the default dimension dim=0\n",
        "def_cat"
      ],
      "execution_count": 4,
      "outputs": [
        {
          "output_type": "execute_result",
          "data": {
            "text/plain": [
              "tensor([[[41, 17, 79, 74],\n",
              "         [11, 16, 89, 84],\n",
              "         [71, 52, 20, 13]],\n",
              "\n",
              "        [[19, 65, 48, 11],\n",
              "         [34, 77, 17, 62],\n",
              "         [41, 15, 66, 96]],\n",
              "\n",
              "        [[17,  7, 51, 20],\n",
              "         [89, 41,  8, 81],\n",
              "         [24, 81, 40, 92]],\n",
              "\n",
              "        [[73, 15, 39, 71],\n",
              "         [67, 19, 91, 20],\n",
              "         [34, 38, 19, 12]]], dtype=torch.int32)"
            ]
          },
          "metadata": {
            "tags": []
          },
          "execution_count": 4
        }
      ]
    },
    {
      "cell_type": "code",
      "metadata": {
        "id": "2D9g1Cjj9_i6",
        "colab_type": "code",
        "colab": {
          "base_uri": "https://localhost:8080/",
          "height": 372
        },
        "outputId": "998e0f94-e019-4e27-8c5e-5e0803cca659"
      },
      "source": [
        "cat_1 = torch.cat((x,y),dim=1) #Creates a tensor of size 2x6x4 after concatenating at dim=1\n",
        "cat_2 = torch.cat((x,y),2) #Creates a tensor of size 2x6x4 after concatenating at dim=2\n",
        "print(cat_1)\n",
        "print(cat_2)\n"
      ],
      "execution_count": 8,
      "outputs": [
        {
          "output_type": "stream",
          "text": [
            "tensor([[[41, 17, 79, 74],\n",
            "         [11, 16, 89, 84],\n",
            "         [71, 52, 20, 13],\n",
            "         [17,  7, 51, 20],\n",
            "         [89, 41,  8, 81],\n",
            "         [24, 81, 40, 92]],\n",
            "\n",
            "        [[19, 65, 48, 11],\n",
            "         [34, 77, 17, 62],\n",
            "         [41, 15, 66, 96],\n",
            "         [73, 15, 39, 71],\n",
            "         [67, 19, 91, 20],\n",
            "         [34, 38, 19, 12]]], dtype=torch.int32)\n",
            "tensor([[[41, 17, 79, 74, 17,  7, 51, 20],\n",
            "         [11, 16, 89, 84, 89, 41,  8, 81],\n",
            "         [71, 52, 20, 13, 24, 81, 40, 92]],\n",
            "\n",
            "        [[19, 65, 48, 11, 73, 15, 39, 71],\n",
            "         [34, 77, 17, 62, 67, 19, 91, 20],\n",
            "         [41, 15, 66, 96, 34, 38, 19, 12]]], dtype=torch.int32)\n"
          ],
          "name": "stdout"
        }
      ]
    },
    {
      "cell_type": "code",
      "metadata": {
        "id": "-gOkgr3D-4zB",
        "colab_type": "code",
        "colab": {}
      },
      "source": [
        ""
      ],
      "execution_count": 0,
      "outputs": []
    }
  ]
}