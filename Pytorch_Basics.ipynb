{
  "nbformat": 4,
  "nbformat_minor": 0,
  "metadata": {
    "colab": {
      "name": "Pytorch_Basics.ipynb",
      "provenance": [],
      "authorship_tag": "ABX9TyMBaGBrPp+LxD0gwWp3MIPh"
    },
    "kernelspec": {
      "name": "python3",
      "display_name": "Python 3"
    },
    "accelerator": "GPU"
  },
  "cells": [
    {
      "cell_type": "markdown",
      "metadata": {
        "id": "Ef6txfZYLqIe",
        "colab_type": "text"
      },
      "source": [
        "# **Pytorch Basics**\n",
        "\n",
        "It is a Python based scitific computing package targeted at 2 sets of audiences-\n",
        " \n",
        "\n",
        "1.   A replacement for Numpy to use the power of GPUs\n",
        "2.   A deep learning research platform that provides maximum flexibility and speed.\n",
        "\n",
        "\n"
      ]
    },
    {
      "cell_type": "markdown",
      "metadata": {
        "id": "dxmTL3cUKjZP",
        "colab_type": "text"
      },
      "source": [
        "**What is a Tensor?**\n",
        "\n",
        "This is the basic element in Pytorch.\n",
        "It is similar to Numpy ndarray, with the additional capability to be used on a GPU to speed up computing.\n"
      ]
    },
    {
      "cell_type": "code",
      "metadata": {
        "id": "b1bBnLueLCri",
        "colab_type": "code",
        "colab": {
          "base_uri": "https://localhost:8080/",
          "height": 34
        },
        "outputId": "1db650b2-57c9-4f81-bb34-d0753e36f9fa"
      },
      "source": [
        "import torch\n",
        "print(torch.__version__)"
      ],
      "execution_count": 34,
      "outputs": [
        {
          "output_type": "stream",
          "text": [
            "1.4.0\n"
          ],
          "name": "stdout"
        }
      ]
    },
    {
      "cell_type": "markdown",
      "metadata": {
        "id": "z6E10uonLRBR",
        "colab_type": "text"
      },
      "source": [
        "# **Creating tensors**\n"
      ]
    },
    {
      "cell_type": "markdown",
      "metadata": {
        "id": "hXHhFrI3kGb1",
        "colab_type": "text"
      },
      "source": [
        "***Empty/Uninitialized Tensor***\n",
        "\n",
        "Creating empty placeholder tensors -uninitialized tensors. An uninitialized matrix is declared, but does not contain definite known values before it is used. When an uninitialized matrix is created, whatever values were in the allocated memory at the time will appear as the initial values. \n",
        "Also, an empty tensor can be created using empty_like() which creates a tensor with size similar to provided tensor."
      ]
    },
    {
      "cell_type": "code",
      "metadata": {
        "id": "h3gY8-mBLYUN",
        "colab_type": "code",
        "colab": {
          "base_uri": "https://localhost:8080/",
          "height": 176
        },
        "outputId": "12505e16-0cdd-4d14-d996-0c9a5483aba9"
      },
      "source": [
        "x0 = torch.empty((2,3)) #Creates an uninitialized tensor of size 2,3. Provide \"dtype\" arg to have data of certain type, \n",
        "print(x0)                    #and \"device\" for CPU or current CUDA device. Default is CPU. \n",
        "\n",
        "x1 = torch.empty_like(x0) #Creates an uninitialized tensor of size same as tensor x0. \n",
        "print(x1)\n",
        "\n",
        "print(x0.dtype)\n",
        "x0_like = torch.empty_like(x0,dtype=torch.int) #Provide other args to override the settings of x0.\n",
        "print(x0_like, x0_like.dtype)\n",
        "\n",
        "x0_new = x0.new_empty((2,2)) #Creates a tensor with size mentioned but has the same dtype and device settings of x0.\n",
        "print(x0_new, x0.dtype, x0_new.dtype)\n"
      ],
      "execution_count": 39,
      "outputs": [
        {
          "output_type": "stream",
          "text": [
            "tensor([[5.3231e-37, 0.0000e+00, 4.4842e-44],\n",
            "        [0.0000e+00,        nan, 1.6675e-43]])\n",
            "tensor([[5.3232e-37, 0.0000e+00, 4.2039e-45],\n",
            "        [0.0000e+00, 1.4013e-45, 0.0000e+00]])\n",
            "torch.float32\n",
            "tensor([[53813888,        0,        3],\n",
            "        [       0,        1,        0]], dtype=torch.int32) torch.int32\n",
            "tensor([[5.3231e-37, 0.0000e+00],\n",
            "        [4.2039e-45, 0.0000e+00]]) torch.float32 torch.float32\n"
          ],
          "name": "stdout"
        }
      ]
    },
    {
      "cell_type": "markdown",
      "metadata": {
        "id": "OIvaN6rs3Ex3",
        "colab_type": "text"
      },
      "source": [
        "***Zeros/Ones initialized tensor***\n",
        "\n",
        "Tensors can be initialized to zeros or ones too."
      ]
    },
    {
      "cell_type": "code",
      "metadata": {
        "id": "twjU0AXmMnqB",
        "colab_type": "code",
        "colab": {
          "base_uri": "https://localhost:8080/",
          "height": 230
        },
        "outputId": "6c61f62b-516f-4a76-c67e-9fc102b0f54d"
      },
      "source": [
        "z0 = torch.zeros((2,3)) #Creates a 2x3 tensor initialised with float 0s as tensor.float is the default data type for tensor in Pytorch\n",
        "print(z0)\n",
        "\n",
        "z1 = torch.zeros_like(z0, dtype=torch.int) #Creates a tensor of 0s of size same as z0 - 2x3\n",
        "print(z1, z1.shape)\n",
        "\n",
        "z2 = z1.new_zeros((2,2)) #Creates a tensor of 0s of size 2x2, but with same dtype and device settings of z1.\n",
        "print(z2, z2.dtype)\n",
        "\n",
        "\n",
        "o0 = torch.ones((2,3)) #Creates a 2x3 tensor initialised with float 1s as tensor.float is the default data type for tensor in Pytorch\n",
        "print(o0)\n",
        "\n",
        "o1 = torch.ones_like(o0, dtype=torch.int) #Creates a tensor of 1s of size same as o0 - 2x3\n",
        "print(o1, o1.shape)\n",
        "\n",
        "o2 = o1.new_ones((2,2)) #Creates a tensor of 1s of size 2x2, but with same dtype and device settings of o1.\n",
        "print(o2, o2.dtype)"
      ],
      "execution_count": 42,
      "outputs": [
        {
          "output_type": "stream",
          "text": [
            "tensor([[0., 0., 0.],\n",
            "        [0., 0., 0.]])\n",
            "tensor([[0, 0, 0],\n",
            "        [0, 0, 0]], dtype=torch.int32) torch.Size([2, 3])\n",
            "tensor([[0, 0],\n",
            "        [0, 0]], dtype=torch.int32) torch.int32\n",
            "tensor([[1., 1., 1.],\n",
            "        [1., 1., 1.]])\n",
            "tensor([[1, 1, 1],\n",
            "        [1, 1, 1]], dtype=torch.int32) torch.Size([2, 3])\n",
            "tensor([[1, 1],\n",
            "        [1, 1]], dtype=torch.int32) torch.int32\n"
          ],
          "name": "stdout"
        }
      ]
    },
    {
      "cell_type": "markdown",
      "metadata": {
        "id": "Gcvwob5Urg0d",
        "colab_type": "text"
      },
      "source": [
        "***Randomly Initialized Tensor***\n",
        "\n",
        "The random initialization is done with random numbers from uniform distribution with interval between 0 and 1."
      ]
    },
    {
      "cell_type": "code",
      "metadata": {
        "id": "s5QxmExCMW-e",
        "colab_type": "code",
        "colab": {
          "base_uri": "https://localhost:8080/",
          "height": 105
        },
        "outputId": "749aa44e-82e1-4d60-d09f-085f77267d2f"
      },
      "source": [
        "r0 = torch.rand(4) #Since only 1 dimension is mentioned i.e 4, it creates a tensor of rank 1 or a 1 dimensional tensor.\n",
        "print(r0, r0.shape, r0.size())\n",
        "\n",
        "r1 = torch.rand((1,4)) #Since 1,4 is provided, it creates a tensor of rank 2 or a 2 dimensional tensor.\n",
        "print(r1, r1.shape, r1.size())\n",
        "\n",
        "r2 = torch.rand((2,3))\n",
        "print(r2, r2.shape, r2.size())\n",
        "\n",
        "r3 = torch.rand_like(r1) #Creates a tensor of same size as r1 but with its own random values.\n",
        "print(r3, r3.shape, r3.size())\n"
      ],
      "execution_count": 23,
      "outputs": [
        {
          "output_type": "stream",
          "text": [
            "tensor([0.2696, 0.6186, 0.9954, 0.7714]) torch.Size([4]) torch.Size([4])\n",
            "tensor([[0.0468, 0.7015, 0.3237, 0.3843]]) torch.Size([1, 4]) torch.Size([1, 4])\n",
            "tensor([[0.2095, 0.1279, 0.9561],\n",
            "        [0.9771, 0.3121, 0.6772]]) torch.Size([2, 3]) torch.Size([2, 3])\n",
            "tensor([[0.0528, 0.1585, 0.3900, 0.0870]]) torch.Size([1, 4]) torch.Size([1, 4])\n"
          ],
          "name": "stdout"
        }
      ]
    },
    {
      "cell_type": "markdown",
      "metadata": {
        "id": "BLjdqQ7b-9_M",
        "colab_type": "text"
      },
      "source": [
        "***Data initialized tensor***\n",
        "\n",
        "Initialize a tensor with data while creating it."
      ]
    },
    {
      "cell_type": "code",
      "metadata": {
        "id": "KqyUbdpDNf3h",
        "colab_type": "code",
        "colab": {
          "base_uri": "https://localhost:8080/",
          "height": 105
        },
        "outputId": "e773737a-6d78-40d1-fd93-f40ee219d707"
      },
      "source": [
        "t0 = torch.tensor([[1,2,3],[4,5,6]]) #Creates a tensor with mentioned data of the size as in data.\n",
        "print(t0, t0.dtype)\n",
        "\n",
        "t1 = t0.new_tensor([[1.0,2.0],[3,4],[5,6]]) #Creates a tensor with mentioned data but with dtype and device as t0\n",
        "print(t1, t0.dtype, t1.dtype)\n",
        "\n"
      ],
      "execution_count": 47,
      "outputs": [
        {
          "output_type": "stream",
          "text": [
            "tensor([[1, 2, 3],\n",
            "        [4, 5, 6]]) torch.int64\n",
            "tensor([[1, 2],\n",
            "        [3, 4],\n",
            "        [5, 6]]) torch.int64 torch.int64\n"
          ],
          "name": "stdout"
        }
      ]
    },
    {
      "cell_type": "markdown",
      "metadata": {
        "id": "58VVhFYwym7Q",
        "colab_type": "text"
      },
      "source": [
        "Since .size() operation or shape attribute return a tuple, we can perform  operations of tuple in order to get the rank of the tensor or the number of dimensions or values of dimensions."
      ]
    },
    {
      "cell_type": "code",
      "metadata": {
        "id": "Q0GGRPDcBNgz",
        "colab_type": "code",
        "colab": {
          "base_uri": "https://localhost:8080/",
          "height": 240
        },
        "outputId": "d89338f6-839e-4192-8dbe-f805851be010"
      },
      "source": [
        "print(\"Rank of tensors r0 and r1:\", len(r0.shape), len(r1.shape)) #Also can be performed on .size() method\n",
        "print(\"1st dimension of r0 and r1:\",r0.shape[0], r1.shape[0])\n",
        "print(\"2nd dimension of r0 and r1:\",r0.shape[1], r1.shape[1]) #Throws IndexError as there is no 2nd dimension for r0, as it is a rank1 tensor."
      ],
      "execution_count": 49,
      "outputs": [
        {
          "output_type": "stream",
          "text": [
            "Rank of tensors r0 and r1: 1 2\n",
            "1st dimension of r0 and r1: 4 1\n"
          ],
          "name": "stdout"
        },
        {
          "output_type": "error",
          "ename": "IndexError",
          "evalue": "ignored",
          "traceback": [
            "\u001b[0;31m---------------------------------------------------------------------------\u001b[0m",
            "\u001b[0;31mIndexError\u001b[0m                                Traceback (most recent call last)",
            "\u001b[0;32m<ipython-input-49-dec926cf03a7>\u001b[0m in \u001b[0;36m<module>\u001b[0;34m()\u001b[0m\n\u001b[1;32m      1\u001b[0m \u001b[0mprint\u001b[0m\u001b[0;34m(\u001b[0m\u001b[0;34m\"Rank of tensors r0 and r1:\"\u001b[0m\u001b[0;34m,\u001b[0m \u001b[0mlen\u001b[0m\u001b[0;34m(\u001b[0m\u001b[0mr0\u001b[0m\u001b[0;34m.\u001b[0m\u001b[0mshape\u001b[0m\u001b[0;34m)\u001b[0m\u001b[0;34m,\u001b[0m \u001b[0mlen\u001b[0m\u001b[0;34m(\u001b[0m\u001b[0mr1\u001b[0m\u001b[0;34m.\u001b[0m\u001b[0mshape\u001b[0m\u001b[0;34m)\u001b[0m\u001b[0;34m)\u001b[0m \u001b[0;31m#Also can be performed on .size() method\u001b[0m\u001b[0;34m\u001b[0m\u001b[0;34m\u001b[0m\u001b[0m\n\u001b[1;32m      2\u001b[0m \u001b[0mprint\u001b[0m\u001b[0;34m(\u001b[0m\u001b[0;34m\"1st dimension of r0 and r1:\"\u001b[0m\u001b[0;34m,\u001b[0m\u001b[0mr0\u001b[0m\u001b[0;34m.\u001b[0m\u001b[0mshape\u001b[0m\u001b[0;34m[\u001b[0m\u001b[0;36m0\u001b[0m\u001b[0;34m]\u001b[0m\u001b[0;34m,\u001b[0m \u001b[0mr1\u001b[0m\u001b[0;34m.\u001b[0m\u001b[0mshape\u001b[0m\u001b[0;34m[\u001b[0m\u001b[0;36m0\u001b[0m\u001b[0;34m]\u001b[0m\u001b[0;34m)\u001b[0m\u001b[0;34m\u001b[0m\u001b[0;34m\u001b[0m\u001b[0m\n\u001b[0;32m----> 3\u001b[0;31m \u001b[0mprint\u001b[0m\u001b[0;34m(\u001b[0m\u001b[0;34m\"2nd dimension of r0 and r1:\"\u001b[0m\u001b[0;34m,\u001b[0m\u001b[0mr0\u001b[0m\u001b[0;34m.\u001b[0m\u001b[0mshape\u001b[0m\u001b[0;34m[\u001b[0m\u001b[0;36m1\u001b[0m\u001b[0;34m]\u001b[0m\u001b[0;34m,\u001b[0m \u001b[0mr1\u001b[0m\u001b[0;34m.\u001b[0m\u001b[0mshape\u001b[0m\u001b[0;34m[\u001b[0m\u001b[0;36m1\u001b[0m\u001b[0;34m]\u001b[0m\u001b[0;34m)\u001b[0m \u001b[0;31m#Throws IndexError as there is no 2nd dimension for r0, as it is a rank1 tensor.\u001b[0m\u001b[0;34m\u001b[0m\u001b[0;34m\u001b[0m\u001b[0m\n\u001b[0m",
            "\u001b[0;31mIndexError\u001b[0m: tuple index out of range"
          ]
        }
      ]
    }
  ]
}